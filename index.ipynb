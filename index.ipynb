{
 "cells": [
  {
   "cell_type": "code",
   "execution_count": 15,
   "outputs": [
    {
     "name": "stdout",
     "output_type": "stream",
     "text": [
      "hello world\n",
      "hello world\n"
     ]
    }
   ],
   "source": [
    "print('hello world')\n",
    "\n",
    "print('hello', end=' ')\n",
    "print('world')\n",
    "\n"
   ],
   "metadata": {
    "collapsed": false,
    "pycharm": {
     "name": "#%%\n"
    }
   }
  },
  {
   "cell_type": "code",
   "execution_count": 33,
   "outputs": [
    {
     "name": "stdout",
     "output_type": "stream",
     "text": [
      "可乐5元\n"
     ]
    }
   ],
   "source": [
    "print('可乐{}元'.format(5))\n"
   ],
   "metadata": {
    "collapsed": false,
    "pycharm": {
     "name": "#%%\n"
    }
   }
  },
  {
   "cell_type": "code",
   "execution_count": 30,
   "outputs": [
    {
     "name": "stdout",
     "output_type": "stream",
     "text": [
      "1-10的乘积为3628800\n"
     ]
    }
   ],
   "source": [
    "a = 1\n",
    "for i in range(1,11):\n",
    "    a = a * i\n",
    "\n",
    "print('1-10的乘积为{}'.format(a))\n"
   ],
   "metadata": {
    "collapsed": false,
    "pycharm": {
     "name": "#%%\n"
    }
   }
  },
  {
   "cell_type": "code",
   "execution_count": 31,
   "outputs": [
    {
     "name": "stdout",
     "output_type": "stream",
     "text": [
      "2到5的乘积为120\n"
     ]
    }
   ],
   "source": [
    "a = 1\n",
    "start = 2\n",
    "end = 5\n",
    "for i in range(start,end + 1):\n",
    "    a = a * i\n",
    "\n",
    "print('{}到{}的乘积为{}'.format(start,end,a))\n"
   ],
   "metadata": {
    "collapsed": false,
    "pycharm": {
     "name": "#%%\n"
    }
   }
  },
  {
   "cell_type": "code",
   "execution_count": 36,
   "outputs": [
    {
     "data": {
      "text/plain": "'3'"
     },
     "execution_count": 36,
     "metadata": {},
     "output_type": "execute_result"
    }
   ],
   "source": [
    "a = input('提示信息:')\n",
    "a"
   ],
   "metadata": {
    "collapsed": false,
    "pycharm": {
     "name": "#%%\n"
    }
   }
  },
  {
   "cell_type": "code",
   "execution_count": 52,
   "outputs": [
    {
     "name": "stdout",
     "output_type": "stream",
     "text": [
      "1\n",
      "恭喜你抢到1111.0元钱\n"
     ]
    }
   ],
   "source": [
    "money = input('总金额:')\n",
    "count = input('红包个数:')\n",
    "msg = input('祝福语:')\n",
    "money\n",
    "count\n",
    "msg\n",
    "#计算平均值\n",
    "mean_money = float(money)/float(count)\n",
    "print('{}\\n恭喜你抢到{}元钱'.format(msg,mean_money))\n",
    "### input的返回值是一个字符串"
   ],
   "metadata": {
    "collapsed": false,
    "pycharm": {
     "name": "#%%\n"
    }
   }
  },
  {
   "cell_type": "code",
   "execution_count": 41,
   "outputs": [
    {
     "name": "stdout",
     "output_type": "stream",
     "text": [
      "python中关键字\n",
      "\n",
      "Here is a list of the Python keywords.  Enter any keyword to get more help.\n",
      "\n",
      "False               class               from                or\n",
      "None                continue            global              pass\n",
      "True                def                 if                  raise\n",
      "and                 del                 import              return\n",
      "as                  elif                in                  try\n",
      "assert              else                is                  while\n",
      "async               except              lambda              with\n",
      "await               finally             nonlocal            yield\n",
      "break               for                 not                 \n",
      "\n"
     ]
    }
   ],
   "source": [
    "print('python中关键字')\n",
    "help('keywords')\n",
    "\n",
    "\n",
    "\n"
   ],
   "metadata": {
    "collapsed": false,
    "pycharm": {
     "name": "#%%\n"
    }
   }
  },
  {
   "cell_type": "code",
   "execution_count": 51,
   "outputs": [],
   "source": [
    "def continue_mul(start,end):\n",
    "    '''\n",
    "    连续整数相乘\n",
    "    :param start:最小值\n",
    "    :param end:最大值\n",
    "    :return:start到end之间连续整数的乘积\n",
    "    '''\n",
    "    x = 1\n",
    "    for i in range(start,end + 1):\n",
    "        x = x * i\n",
    "    return x\n",
    "\n",
    "\n"
   ],
   "metadata": {
    "collapsed": false,
    "pycharm": {
     "name": "#%%\n"
    }
   }
  },
  {
   "cell_type": "code",
   "execution_count": 54,
   "outputs": [
    {
     "name": "stdout",
     "output_type": "stream",
     "text": [
      "True\n"
     ]
    }
   ],
   "source": [
    "name = '小明'\n",
    "real_age = 18\n",
    "mental_age = 3.5\n",
    "childish = real_age > mental_age + 3\n",
    "childish\n",
    "print(\"{}\".format(childish))"
   ],
   "metadata": {
    "collapsed": false,
    "pycharm": {
     "name": "#%%\n"
    }
   }
  },
  {
   "cell_type": "code",
   "execution_count": 58,
   "outputs": [],
   "source": [
    "# 整除，向下取整 //\n",
    "a = 3 // 2\n",
    "a\n",
    "\n",
    "b = 3.0 // 2\n",
    "b\n"
   ],
   "metadata": {
    "collapsed": false,
    "pycharm": {
     "name": "#%%\n"
    }
   }
  },
  {
   "cell_type": "code",
   "execution_count": null,
   "outputs": [],
   "source": [
    "#取模%(余数)\n",
    "a = 3 % 2\n",
    "a\n"
   ],
   "metadata": {
    "collapsed": false,
    "pycharm": {
     "name": "#%%\n"
    }
   }
  },
  {
   "cell_type": "code",
   "execution_count": 59,
   "outputs": [
    {
     "name": "stdout",
     "output_type": "stream",
     "text": [
      "3\n",
      "10\n",
      "17\n",
      "24\n",
      "31\n"
     ]
    }
   ],
   "source": [
    "for i in range(31):\n",
    "    if i % 7 == 0:\n",
    "        print(i + 3)\n",
    "\n"
   ],
   "metadata": {
    "collapsed": false,
    "pycharm": {
     "name": "#%%\n"
    }
   }
  },
  {
   "cell_type": "code",
   "execution_count": 60,
   "outputs": [
    {
     "data": {
      "text/plain": "-1.0"
     },
     "execution_count": 60,
     "metadata": {},
     "output_type": "execute_result"
    }
   ],
   "source": [
    "import math\n",
    "math.cos(math.pi)\n",
    "\n"
   ],
   "metadata": {
    "collapsed": false,
    "pycharm": {
     "name": "#%%\n"
    }
   }
  },
  {
   "cell_type": "code",
   "execution_count": 104,
   "outputs": [
    {
     "data": {
      "text/plain": "False"
     },
     "execution_count": 104,
     "metadata": {},
     "output_type": "execute_result"
    }
   ],
   "source": [
    "a = 1\n",
    "b = a + 1\n",
    "b == a\n",
    "\n"
   ],
   "metadata": {
    "collapsed": false,
    "pycharm": {
     "name": "#%%\n"
    }
   }
  },
  {
   "cell_type": "code",
   "execution_count": 101,
   "outputs": [
    {
     "name": "stdout",
     "output_type": "stream",
     "text": [
      "你的想象力被限制在3666.0元:\n"
     ]
    }
   ],
   "source": [
    "'''\n",
    "price = 6999\n",
    "money = input('花呗额度:')\n",
    "if 足够支付，输出'包治百病',以及余额\n",
    "if 不够支付，输出'你的想象力被限制'\n",
    "if 刚好可以支付,输出'轻松就是快乐'\n",
    "'''\n",
    "\n",
    "price = 6999\n",
    "money = input('输入花呗余额:')\n",
    "money = float(money)\n",
    "if money > price:\n",
    "    print('包治百病,余额为:{}'.format(money-price))\n",
    "if money < price:\n",
    "    print('你的想象力被限制在{}元:'.format(price-money))\n",
    "if money == price:\n",
    "    print('轻轻松松就是快乐')\n",
    "\n",
    "\n",
    "\n"
   ],
   "metadata": {
    "collapsed": false,
    "pycharm": {
     "name": "#%%\n"
    }
   }
  },
  {
   "cell_type": "code",
   "execution_count": 107,
   "outputs": [
    {
     "ename": "SyntaxError",
     "evalue": "unexpected EOF while parsing (<ipython-input-107-ae366074067a>, line 19)",
     "output_type": "error",
     "traceback": [
      "\u001B[1;36m  File \u001B[1;32m\"<ipython-input-107-ae366074067a>\"\u001B[1;36m, line \u001B[1;32m19\u001B[0m\n\u001B[1;33m    \u001B[0m\n\u001B[1;37m    ^\u001B[0m\n\u001B[1;31mSyntaxError\u001B[0m\u001B[1;31m:\u001B[0m unexpected EOF while parsing\n"
     ]
    }
   ],
   "source": [
    "#Python赋值运算符=、+=、-=、*=、/=、//=、%=、**=、:=\n",
    "\n",
    "#Python逻辑运算符 and or not(与，或，非)\n",
    "#与（全true为true，有一false全为false）\n",
    "#或（有一true就全为true，全为false就全是false）\n",
    "#非（true为false，false为true）\n",
    "\n",
    "#Python成员运算符 in、not in\n",
    "#in a包含在b中 true，否则false\n",
    "#not in a不包含在b中 true，否则false\n",
    "'''\n",
    "if '我' in '你心里' false\n",
    "if '我' not in '你心里' true\n",
    "'''\n",
    "\n",
    "#Python身份运算符 is、is not 用于比较两个对象的存储单元\n",
    "'''\n",
    "a = 1\n",
    "b = a\n",
    "a is b true\n",
    "a == b true\n",
    "\n",
    "is,is not 用于比较两个对象的存储单元\n",
    "==用于比较二个变量的值\n",
    "'''\n",
    "\n",
    "\n",
    "\n"
   ],
   "metadata": {
    "collapsed": false,
    "pycharm": {
     "name": "#%%\n"
    }
   }
  },
  {
   "cell_type": "code",
   "execution_count": 108,
   "outputs": [],
   "source": [
    "age = int(input('输入年龄:'))\n",
    "time = float(input('在线时间'))\n",
    "if age <= 12 and time >= 60:\n",
    "    print('写作业吧')\n",
    "if age >= 13 and time >= 120:\n",
    "    print('不是小孩子了')"
   ],
   "metadata": {
    "collapsed": false,
    "pycharm": {
     "name": "#%%\n"
    }
   }
  },
  {
   "cell_type": "code",
   "execution_count": 112,
   "outputs": [
    {
     "name": "stdout",
     "output_type": "stream",
     "text": [
      "伤心\n",
      "伤心\n"
     ]
    }
   ],
   "source": [
    "if '我' in '你心里':\n",
    "    print('开心')\n",
    "else:\n",
    "    print('伤心')\n",
    "\n",
    "if '我' not in '你心里':\n",
    "    print('伤心')\n",
    "else:\n",
    "    print('开心')\n",
    "\n"
   ],
   "metadata": {
    "collapsed": false,
    "pycharm": {
     "name": "#%%\n"
    }
   }
  },
  {
   "cell_type": "code",
   "execution_count": 115,
   "outputs": [
    {
     "data": {
      "text/plain": "True"
     },
     "execution_count": 115,
     "metadata": {},
     "output_type": "execute_result"
    }
   ],
   "source": [
    "ls_1 = [x for x in range(10)]\n",
    "ls_1\n",
    "ls_2 = [0,1,2,3,4,5,6,7,8,9]\n",
    "ls_2\n",
    "\n",
    "ls_1 is ls_2\n",
    "ls_1 == ls_2"
   ],
   "metadata": {
    "collapsed": false,
    "pycharm": {
     "name": "#%%\n"
    }
   }
  }
 ],
 "metadata": {
  "kernelspec": {
   "name": "python3",
   "language": "python",
   "display_name": "Python 3"
  },
  "language_info": {
   "codemirror_mode": {
    "name": "ipython",
    "version": 2
   },
   "file_extension": ".py",
   "mimetype": "text/x-python",
   "name": "python",
   "nbconvert_exporter": "python",
   "pygments_lexer": "ipython2",
   "version": "2.7.6"
  }
 },
 "nbformat": 4,
 "nbformat_minor": 0
}